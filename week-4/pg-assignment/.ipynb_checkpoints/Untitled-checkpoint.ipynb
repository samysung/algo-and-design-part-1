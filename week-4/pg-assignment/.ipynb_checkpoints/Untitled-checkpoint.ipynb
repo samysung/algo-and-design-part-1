{
 "cells": [
  {
   "cell_type": "code",
   "execution_count": 4,
   "metadata": {
    "collapsed": false
   },
   "outputs": [],
   "source": [
    "# Types of edges in DFS traversal.\n",
    "# The numerical values are used in DepthFirstSearcher, change with care.\n",
    "forward = 1     # traversing edge (v,w) from v to w\n",
    "reverse = -1    # returning backwards on (v,w) from w to v\n",
    "nontree = 0     # edge (v,w) is not part of the DFS tree\n",
    "\n",
    "whole_graph = object()  # special flag object, do not use as a graph vertex\n",
    "\n",
    "def search(G,initial_vertex = whole_graph):\n",
    "    \"\"\"\n",
    "    Generate sequence of triples (v,w,edgetype) for DFS of graph G.\n",
    "    The subsequence for each root of each tree in the DFS forest starts\n",
    "    with (root,root,forward) and ends with (root,root,reverse).\n",
    "    If the initial vertex is given, it is used as the root and vertices\n",
    "    not reachable from it are not searched.\n",
    "    \"\"\"\n",
    "    visited = set()\n",
    "    if initial_vertex == whole_graph:\n",
    "        initials = G\n",
    "    else:\n",
    "        initials = [initial_vertex]\n",
    "    for v in initials:\n",
    "        if v not in visited:\n",
    "            yield v,v,forward\n",
    "            visited.add(v)\n",
    "            stack = [(v,iter(G[v]))]\n",
    "            while stack:\n",
    "                parent,children = stack[-1]\n",
    "                try:\n",
    "                    child = next(children)\n",
    "                    if child in visited:\n",
    "                        yield parent,child,nontree\n",
    "                    else:\n",
    "                        yield parent,child,forward\n",
    "                        visited.add(child)\n",
    "                        stack.append((child,iter(G[child])))\n",
    "                except StopIteration:\n",
    "                    stack.pop()\n",
    "                    if stack:\n",
    "                        yield stack[-1][0],parent,reverse\n",
    "            yield v,v,reverse\n"
   ]
  },
  {
   "cell_type": "code",
   "execution_count": 5,
   "metadata": {
    "collapsed": false
   },
   "outputs": [],
   "source": [
    "def preorder(G,initial_vertex = whole_graph):\n",
    "    \"\"\"Generate all vertices of graph G in depth-first preorder.\"\"\"\n",
    "    for v,w,edgetype in search(G,initial_vertex):\n",
    "        if edgetype is forward:\n",
    "            yield w\n",
    "\n",
    "def postorder(G,initial_vertex = whole_graph):\n",
    "    \"\"\"Generate all vertices of graph G in depth-first postorder.\"\"\"\n",
    "    for v,w,edgetype in search(G,initial_vertex):\n",
    "        if edgetype is reverse:\n",
    "            yield w\n",
    "\n",
    "def reachable(G,v,w):\n",
    "    \"\"\"Can we get from v to w in graph G?\"\"\"\n",
    "    return w in preorder(G,v)\n",
    "\n",
    "class Searcher:\n",
    "    \"\"\"\n",
    "    Handler for performing general depth first searches of graphs.\n",
    "    Some or all of the routines preorder, postorder, and backedge\n",
    "    should be shadowed in order to make the search do something useful.\n",
    "    \"\"\"\n",
    "\n",
    "    def preorder(self,parent,child):\n",
    "        \"\"\"\n",
    "        Called when DFS visits child, before visiting all grandchildren.\n",
    "        Parent==child when child is the root of each DFS tree.\n",
    "        \"\"\"\n",
    "        pass\n",
    "\n",
    "    def postorder(self,parent,child):\n",
    "        \"\"\"\n",
    "        Called when DFS visits child, after visiting all grandchildren.\n",
    "        Parent==child when child is the root of each DFS tree.\n",
    "        \"\"\"\n",
    "        pass\n",
    "\n",
    "    def backedge(self,source,destination):\n",
    "        \"\"\"Called when DFS discovers an edge to a non-child.\"\"\"\n",
    "        pass\n",
    "\n",
    "    def __init__(self,G):\n",
    "        \"\"\"Perform a depth first search of graph G.\"\"\"\n",
    "        dispatch = [self.backedge,self.preorder,self.postorder]\n",
    "        for v,w,edgetype in search(G):\n",
    "            dispatch[edgetype](v,w)\n"
   ]
  },
  {
   "cell_type": "code",
   "execution_count": 8,
   "metadata": {
    "collapsed": false
   },
   "outputs": [
    {
     "name": "stdout",
     "output_type": "stream",
     "text": [
      "9\n",
      "12\n",
      "11\n",
      "10\n",
      "7\n",
      "8\n",
      "6\n",
      "3\n",
      "4\n",
      "5\n",
      "2\n",
      "1\n",
      "1\n",
      "2\n",
      "5\n",
      "4\n",
      "3\n",
      "6\n",
      "8\n",
      "7\n",
      "10\n",
      "11\n",
      "12\n",
      "9\n"
     ]
    }
   ],
   "source": [
    "G={1:[2],2:[3,4,5],3:[6],4:[5],4:[7],5:[2],5:[6,7],6:[3,8],7:[8,10],8:[7],9:[7],10:[9,11],11:[12],12:[10]}\n",
    "for w in postorder(G):\n",
    "    print(str(w))\n",
    "\n",
    "print('\\n\\n')\n",
    "for w in reversed(list(postorder(G))):\n",
    "    print(str(w))"
   ]
  },
  {
   "cell_type": "code",
   "execution_count": null,
   "metadata": {
    "collapsed": true
   },
   "outputs": [],
   "source": []
  }
 ],
 "metadata": {
  "kernelspec": {
   "display_name": "Python 3",
   "language": "python",
   "name": "python3"
  },
  "language_info": {
   "codemirror_mode": {
    "name": "ipython",
    "version": 3
   },
   "file_extension": ".py",
   "mimetype": "text/x-python",
   "name": "python",
   "nbconvert_exporter": "python",
   "pygments_lexer": "ipython3",
   "version": "3.5.1"
  }
 },
 "nbformat": 4,
 "nbformat_minor": 0
}
